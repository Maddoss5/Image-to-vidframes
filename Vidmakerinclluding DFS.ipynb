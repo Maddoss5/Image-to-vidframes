{
 "cells": [
  {
   "cell_type": "code",
   "execution_count": 1,
   "id": "9396dd8b",
   "metadata": {},
   "outputs": [],
   "source": [
    "import sys\n",
    "import os\n",
    "import cv2\n",
    "import numpy as np\n",
    "import math "
   ]
  },
  {
   "cell_type": "code",
   "execution_count": 2,
   "id": "95727033",
   "metadata": {},
   "outputs": [],
   "source": [
    "img = cv2.imread(\"rekt.jpg\",cv2.IMREAD_COLOR)"
   ]
  },
  {
   "cell_type": "code",
   "execution_count": 3,
   "id": "7edc3546",
   "metadata": {},
   "outputs": [],
   "source": [
    "cv2.imshow('Original', img)\n",
    "cv2.waitKey(0)\n",
    " \n",
    "\n",
    "cv2.destroyAllWindows()"
   ]
  },
  {
   "cell_type": "code",
   "execution_count": 4,
   "id": "0bb36ade",
   "metadata": {},
   "outputs": [],
   "source": [
    "whitepage = cv2.imread(\"rekt.jpg\",cv2.IMREAD_COLOR)"
   ]
  },
  {
   "cell_type": "code",
   "execution_count": 5,
   "id": "0e426961",
   "metadata": {},
   "outputs": [],
   "source": [
    "for i in range(0,whitepage.shape[0]):\n",
    "    for j in range(0,whitepage.shape[1]):\n",
    "        whitepage[i][j][0]=240\n",
    "        whitepage[i][j][1]=255\n",
    "        whitepage[i][j][2]=255"
   ]
  },
  {
   "cell_type": "code",
   "execution_count": 6,
   "id": "e5e0e76a",
   "metadata": {},
   "outputs": [],
   "source": [
    "cv2.imshow('Original', whitepage)\n",
    "cv2.waitKey(0)\n",
    " \n",
    "\n",
    "cv2.destroyAllWindows()"
   ]
  },
  {
   "cell_type": "code",
   "execution_count": 7,
   "id": "c5640a9d",
   "metadata": {},
   "outputs": [],
   "source": [
    "zero=[0]\n",
    "vis=[zero*whitepage.shape[1]]*whitepage.shape[0]\n",
    "            "
   ]
  },
  {
   "cell_type": "code",
   "execution_count": 8,
   "id": "8d733329",
   "metadata": {},
   "outputs": [
    {
     "name": "stdout",
     "output_type": "stream",
     "text": [
      "137 301\n"
     ]
    }
   ],
   "source": [
    "print(len(vis),len(vis[0]))"
   ]
  },
  {
   "cell_type": "code",
   "execution_count": 9,
   "id": "a01a89cb",
   "metadata": {},
   "outputs": [
    {
     "data": {
      "text/plain": [
       "(137, 301, 3)"
      ]
     },
     "execution_count": 9,
     "metadata": {},
     "output_type": "execute_result"
    }
   ],
   "source": [
    "whitepage.shape"
   ]
  },
  {
   "cell_type": "code",
   "execution_count": 10,
   "id": "1a69105f",
   "metadata": {},
   "outputs": [],
   "source": [
    "def findnddext(p1,p2):\n",
    "    dist=(img.shape[0]+img.shape[1])*(img.shape[0]+img.shape[1])\n",
    "    x=-1\n",
    "    y=-1\n",
    "\n",
    "    for i in range(img.shape[0]):\n",
    "        for j in range(img.shape[1]):\n",
    "            if (i !=p1 and j!=p2):\n",
    "                if(vis[i][j]!=1):\n",
    "                    c1=img[i][j][0]-img[p1][p2][0]\n",
    "                    c2=img[i][j][1]-img[p1][p2][1]\n",
    "                    c3=img[i][j][2]-img[p1][p2][2]\n",
    "                    totc=abs(c1)+abs(c2)+abs(c3)\n",
    "                    if(totc<=30):\n",
    "                        newdist=(i-p1)*(i-p1)+(j-p2)*(j-p2)\n",
    "                        if(newdist<=dist):\n",
    "                            x=i\n",
    "                            y=j\n",
    "    return x,y\n",
    "                        \n",
    "                        \n",
    "                \n",
    "            \n",
    "            "
   ]
  },
  {
   "cell_type": "code",
   "execution_count": 11,
   "id": "36703cac",
   "metadata": {},
   "outputs": [],
   "source": [
    "workon=[]"
   ]
  },
  {
   "cell_type": "code",
   "execution_count": 12,
   "id": "35fe4023",
   "metadata": {},
   "outputs": [],
   "source": [
    "for i in range(whitepage.shape[0]):\n",
    "    for j in range(whitepage.shape[1]):\n",
    "        if (vis[i][j]==0):\n",
    "            if(img[i][j][0]<240 and img[i][j][1]<240 and img[i][j][2]<240 ):\n",
    "                workon.append([i,j])\n",
    "                \n",
    "\n",
    "                \n",
    "                \n",
    "            \n",
    "        \n",
    "        "
   ]
  },
  {
   "cell_type": "code",
   "execution_count": 13,
   "id": "5052e839",
   "metadata": {},
   "outputs": [
    {
     "data": {
      "text/plain": [
       "1352"
      ]
     },
     "execution_count": 13,
     "metadata": {},
     "output_type": "execute_result"
    }
   ],
   "source": [
    "len(workon)"
   ]
  },
  {
   "cell_type": "code",
   "execution_count": 14,
   "id": "93f45a29",
   "metadata": {},
   "outputs": [],
   "source": [
    "visited=[zero*len(workon)]"
   ]
  },
  {
   "cell_type": "code",
   "execution_count": 15,
   "id": "eff4df78",
   "metadata": {},
   "outputs": [
    {
     "data": {
      "text/plain": [
       "1352"
      ]
     },
     "execution_count": 15,
     "metadata": {},
     "output_type": "execute_result"
    }
   ],
   "source": [
    "len(visited[0])"
   ]
  },
  {
   "cell_type": "code",
   "execution_count": 16,
   "id": "9afbb0d5",
   "metadata": {},
   "outputs": [
    {
     "data": {
      "text/plain": [
       "21"
      ]
     },
     "execution_count": 16,
     "metadata": {},
     "output_type": "execute_result"
    }
   ],
   "source": [
    "workon[5][0]"
   ]
  },
  {
   "cell_type": "code",
   "execution_count": 17,
   "id": "12d054c8",
   "metadata": {},
   "outputs": [],
   "source": [
    "def dfs(x,y):\n",
    "    print(\"dfs of \",x,y)\n",
    "    \n",
    "    vis[x][y]=1\n",
    "    whitepage[x][y][0]=img[x][y][0]\n",
    "    whitepage[x][y][1]=img[x][y][1]\n",
    "    whitepage[x][y][2]=img[x][y][2]\n",
    "    global cunt\n",
    "    cunt=cunt+1\n",
    "    name=vidname+str(cunt)+\".jpg\"\n",
    "    \n",
    "    cv2.imwrite(name, whitepage)\n",
    "    c1=img[x][y][0]\n",
    "    c2=img[x][y][1]\n",
    "    c3=img[x][y][2]\n",
    "    if(x+1<whitepage.shape[0]):\n",
    "        if(vis[x+1][y]==0):\n",
    "            c4=img[x+1][y][0]\n",
    "            c5=img[x+1][y][1]\n",
    "            c6=img[x+1][y][2]\n",
    "            differ=abs(int(c1)-(int(c4)))+abs(int(c2)-(int(c5)))+abs(int(c3)-(int(c6)))\n",
    "            if(differ<=100):\n",
    "                dfs(x+1,y)\n",
    "    if(y+1<whitepage.shape[1]):        \n",
    "        if(vis[x][y+1]==0):\n",
    "            c4=img[x][y+1][0]\n",
    "            c5=img[x][y+1][1]\n",
    "            c6=img[x][y+1][2]\n",
    "            differ=abs(int(c1)-(int(c4)))+abs(int(c2)-(int(c5)))+abs(int(c3)-(int(c6)))\n",
    "            if(differ<=100):\n",
    "                dfs(x,y+1)    \n",
    "    if(x-1>=0):\n",
    "        if(vis[x-1][y]==0):\n",
    "            c4=img[x-1][y][0]\n",
    "            c5=img[x-1][y][1]\n",
    "            c6=img[x-1][y][2]\n",
    "            differ=abs(int(c1)-(int(c4)))+abs(int(c2)-(int(c5)))+abs(int(c3)-(int(c6)))\n",
    "            if(differ<=100):\n",
    "                dfs(x-1,y)\n",
    "\n",
    "    if(y-1>=0):\n",
    "        if(vis[x][y-1]==0):\n",
    "            c4=img[x][y-1][0]\n",
    "            c5=img[x][y-1][1]\n",
    "            c6=img[x][y-1][2]\n",
    "            differ=abs(int(c1)-(int(c4)))+abs(int(c2)-(int(c5)))+abs(int(c3)-(int(c6)))\n",
    "            if(differ<=100):\n",
    "                dfs(x,y-1)"
   ]
  },
  {
   "cell_type": "code",
   "execution_count": 18,
   "id": "ee4dc24e",
   "metadata": {},
   "outputs": [],
   "source": [
    "def findnext(i):\n",
    "    dist=100000000\n",
    "    ind=-1\n",
    "    for j in range(len(workon)):\n",
    "        if(visited[0][j]!=1):\n",
    "            c1=img[workon[i][0]][workon[i][1]][0]\n",
    "            c2=img[workon[i][0]][workon[i][1]][1]\n",
    "            c3=img[workon[i][0]][workon[i][1]][2]\n",
    "            c4=img[workon[j][0]][workon[j][1]][0]\n",
    "            c5=img[workon[j][0]][workon[j][1]][1]\n",
    "            c6=img[workon[j][0]][workon[j][1]][1]\n",
    "            totc=abs(int(c1)-int(c4))+abs(int(c2)-int(c5))+abs(int(c3)-int(c6))\n",
    "            d1=workon[i][0]\n",
    "            d2=workon[i][1]\n",
    "            d3=workon[j][0]\n",
    "            d4=workon[j][1]\n",
    "            newdist=(d1-d3)*(d1-d3)+(d2-d4)*(d2-d4)\n",
    "            newdist=math.sqrt(newdist)\n",
    "            if(totc<=30 and newdist<dist):\n",
    "                dist=newdist\n",
    "                ind=j\n",
    "                \n",
    "    return ind\n",
    "    "
   ]
  },
  {
   "cell_type": "code",
   "execution_count": 19,
   "id": "a95ce7b0",
   "metadata": {},
   "outputs": [],
   "source": [
    "finalvid=[]"
   ]
  },
  {
   "cell_type": "code",
   "execution_count": 20,
   "id": "5a28f757",
   "metadata": {},
   "outputs": [],
   "source": [
    "for i in range(len(workon)):\n",
    "    if(visited[0][i]==0):\n",
    "\n",
    "        visited[0][i]=1\n",
    "\n",
    "        while(findnext(i)!=-1):\n",
    "            finalvid.append(i)\n",
    "            visited[0][i]=1\n",
    "            i=findnext(i)\n",
    "        if(i!=-1):\n",
    "            visited[0][i]=1\n",
    "        \n",
    "        \n",
    "    \n",
    "                    \n",
    "                "
   ]
  },
  {
   "cell_type": "code",
   "execution_count": 21,
   "id": "2078a1c4",
   "metadata": {},
   "outputs": [
    {
     "data": {
      "text/plain": [
       "1352"
      ]
     },
     "execution_count": 21,
     "metadata": {},
     "output_type": "execute_result"
    }
   ],
   "source": [
    "len(finalvid)"
   ]
  },
  {
   "cell_type": "code",
   "execution_count": 22,
   "id": "a43cee8b",
   "metadata": {},
   "outputs": [],
   "source": [
    "for i in range(len(finalvid)):\n",
    "    ha=finalvid[i]\n",
    "    x=workon[ha][0]\n",
    "    y=workon[ha][1]\n",
    "    whitepage[x][y][0]=img[x][y][0]\n",
    "    whitepage[x][y][1]=img[x][y][1]\n",
    "    whitepage[x][y][2]=img[x][y][2]\n",
    "    vidname=\"videoframe\"\n",
    "    name=vidname+str(i)+\".jpg\"\n",
    "    cv2.imwrite(name, whitepage)\n"
   ]
  },
  {
   "cell_type": "code",
   "execution_count": null,
   "id": "8b273634",
   "metadata": {},
   "outputs": [],
   "source": []
  }
 ],
 "metadata": {
  "kernelspec": {
   "display_name": "Python 3 (ipykernel)",
   "language": "python",
   "name": "python3"
  },
  "language_info": {
   "codemirror_mode": {
    "name": "ipython",
    "version": 3
   },
   "file_extension": ".py",
   "mimetype": "text/x-python",
   "name": "python",
   "nbconvert_exporter": "python",
   "pygments_lexer": "ipython3",
   "version": "3.10.6"
  }
 },
 "nbformat": 4,
 "nbformat_minor": 5
}
